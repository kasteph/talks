{
 "cells": [
  {
   "cell_type": "markdown",
   "id": "f2f9b02ab0e250ad",
   "metadata": {
    "collapsed": false,
    "editable": true,
    "slideshow": {
     "slide_type": "slide"
    },
    "tags": []
   },
   "source": [
    "# Internals of Generators\n",
    "\n",
    "\n",
    "@steph.bsky.social | @0xkasteph\n",
    "\n",
    "kasteph.eth.limo\n",
    "\n",
    "github.com/kasteph\n",
    "\n",
    "<img src=\"rc.png\" width=\"50\"/>\n",
    "<img src=\"pl.png\" width=\"250\"/>\n"
   ]
  },
  {
   "cell_type": "markdown",
   "id": "da837863d6684ad8",
   "metadata": {
    "collapsed": false,
    "editable": true,
    "slideshow": {
     "slide_type": "slide"
    },
    "tags": []
   },
   "source": [
    "## Agenda\n",
    "\n",
    "- Iterables\n",
    "- Iterators\n",
    "- Generators\n",
    "- Implementation of Generators in CPython"
   ]
  },
  {
   "cell_type": "markdown",
   "id": "5ee8a60df648a5c7",
   "metadata": {
    "collapsed": false,
    "editable": true,
    "slideshow": {
     "slide_type": "slide"
    },
    "tags": []
   },
   "source": [
    "## Iterable\n",
    "\n",
    "An object that implements `__iter__` or `__getitem__`. Let's see some examples."
   ]
  },
  {
   "cell_type": "code",
   "execution_count": 1,
   "id": "475756eaf99891ea",
   "metadata": {
    "ExecuteTime": {
     "end_time": "2023-10-28T00:16:48.871188Z",
     "start_time": "2023-10-28T00:16:48.823782Z"
    },
    "collapsed": false,
    "editable": true,
    "slideshow": {
     "slide_type": "subslide"
    },
    "tags": []
   },
   "outputs": [
    {
     "name": "stdout",
     "output_type": "stream",
     "text": [
      "pycon\n",
      "apac\n",
      "2023\n"
     ]
    }
   ],
   "source": [
    "for token in [\"pycon\", \"apac\", \"2023\"]:\n",
    "    print(token)"
   ]
  },
  {
   "cell_type": "code",
   "execution_count": 2,
   "id": "c3697bd25eec3283",
   "metadata": {
    "ExecuteTime": {
     "end_time": "2023-10-28T00:16:48.886463Z",
     "start_time": "2023-10-28T00:16:48.827716Z"
    },
    "collapsed": false,
    "editable": true,
    "slideshow": {
     "slide_type": ""
    },
    "tags": []
   },
   "outputs": [
    {
     "name": "stdout",
     "output_type": "stream",
     "text": [
      "are\n",
      "tuples\n",
      "iterable\n",
      "?\n"
     ]
    }
   ],
   "source": [
    "for token in (\"are\", \"tuples\", \"iterable\", \"?\"):\n",
    "    print(token)"
   ]
  },
  {
   "cell_type": "code",
   "execution_count": 3,
   "id": "6a10ba27af2aa36b",
   "metadata": {
    "ExecuteTime": {
     "end_time": "2023-10-28T00:16:48.886831Z",
     "start_time": "2023-10-28T00:16:48.831299Z"
    },
    "collapsed": false,
    "editable": true,
    "slideshow": {
     "slide_type": "subslide"
    },
    "tags": []
   },
   "outputs": [
    {
     "name": "stdout",
     "output_type": "stream",
     "text": [
      "Y\n",
      "E\n",
      "S\n",
      "!\n"
     ]
    }
   ],
   "source": [
    "for c in \"Yes!\":\n",
    "    print(c.upper())\n",
    "    "
   ]
  },
  {
   "cell_type": "code",
   "execution_count": 4,
   "id": "c472b121a97501ca",
   "metadata": {
    "ExecuteTime": {
     "end_time": "2023-10-28T00:16:48.886957Z",
     "start_time": "2023-10-28T00:16:48.833965Z"
    },
    "collapsed": false,
    "editable": true,
    "slideshow": {
     "slide_type": ""
    },
    "tags": []
   },
   "outputs": [
    {
     "name": "stdout",
     "output_type": "stream",
     "text": [
      "eur\n",
      "yen\n"
     ]
    }
   ],
   "source": [
    "wallet = {\"eur\": 10, \"yen\": 3000}\n",
    "for key, values in wallet.items():\n",
    "    print(key)"
   ]
  },
  {
   "cell_type": "markdown",
   "id": "8932c6aa7a77dcb6",
   "metadata": {
    "collapsed": false,
    "editable": true,
    "slideshow": {
     "slide_type": "subslide"
    },
    "tags": []
   },
   "source": [
    "An `Iterable` returns an `Iterator` object."
   ]
  },
  {
   "cell_type": "markdown",
   "id": "375e6d62d04791e0",
   "metadata": {
    "collapsed": false,
    "editable": true,
    "slideshow": {
     "slide_type": "slide"
    },
    "tags": []
   },
   "source": [
    "## Iterator\n",
    "\n",
    "> An iteration interface that objects can provide to control the behaviour of `for` loops. \n",
    "\n",
    "> ~ [PEP-0234](https://peps.python.org/pep-0234/) by Ka-Ping Yee and Guido van Rossum"
   ]
  },
  {
   "cell_type": "markdown",
   "id": "9ef55992c1af5731",
   "metadata": {
    "collapsed": false,
    "editable": true,
    "slideshow": {
     "slide_type": "subslide"
    },
    "tags": []
   },
   "source": [
    "An object that:\n",
    "- implements `__next__`\n",
    "- raises `StopIteration`"
   ]
  },
  {
   "cell_type": "markdown",
   "id": "b7a84a34-4989-4972-afb0-31eb39b02526",
   "metadata": {
    "editable": true,
    "slideshow": {
     "slide_type": "subslide"
    },
    "tags": []
   },
   "source": [
    "Let's create our own iterator. 👷‍♀️🛠️"
   ]
  },
  {
   "cell_type": "code",
   "execution_count": 5,
   "id": "957858f8ad7e356e",
   "metadata": {
    "ExecuteTime": {
     "end_time": "2023-10-28T00:16:48.887043Z",
     "start_time": "2023-10-28T00:16:48.837849Z"
    },
    "collapsed": false,
    "editable": true,
    "slideshow": {
     "slide_type": "subslide"
    },
    "tags": []
   },
   "outputs": [],
   "source": [
    "from typing import Any, Optional\n",
    "\n",
    "\n",
    "class Node:\n",
    "    def __init__(self, data: Any, next_: Optional[\"Node\"] = None):\n",
    "        self.data = data\n",
    "        self.next = next_\n",
    "        \n",
    "    def __next__(self) -> \"Node\":\n",
    "        if not self.next:\n",
    "            raise StopIteration(\"The value for next is `None`.\")\n",
    "        return self.next"
   ]
  },
  {
   "cell_type": "code",
   "execution_count": 6,
   "id": "6342ba186e566cbe",
   "metadata": {
    "ExecuteTime": {
     "end_time": "2023-10-28T00:16:48.887181Z",
     "start_time": "2023-10-28T00:16:48.840343Z"
    },
    "collapsed": false,
    "editable": true,
    "slideshow": {
     "slide_type": "subslide"
    },
    "tags": []
   },
   "outputs": [
    {
     "name": "stdout",
     "output_type": "stream",
     "text": [
      "a\n",
      "b\n",
      "c\n"
     ]
    }
   ],
   "source": [
    "root = Node(\"a\", next_=Node(\"b\", next_=Node(\"c\")))\n",
    "current_node = root\n",
    "while current_node:\n",
    "    print(current_node.data)\n",
    "    current_node = current_node.next"
   ]
  },
  {
   "cell_type": "code",
   "execution_count": 7,
   "id": "6d6d08b0aac74f03",
   "metadata": {
    "ExecuteTime": {
     "end_time": "2023-10-28T00:16:48.887240Z",
     "start_time": "2023-10-28T00:16:48.843195Z"
    },
    "collapsed": false,
    "editable": true,
    "slideshow": {
     "slide_type": "subslide"
    },
    "tags": []
   },
   "outputs": [],
   "source": [
    "class Node:\n",
    "    def __init__(self, data: Any, next_: Optional[\"Node\"] = None):\n",
    "        self.data = data\n",
    "        self.next = next_\n",
    "        \n",
    "    def __next__(self) -> \"Node\":\n",
    "        if not self.next:\n",
    "            raise StopIteration(\"The value for next is `None`.\")\n",
    "        return self.next\n",
    "\n",
    "    def __iter__(self) -> \"Node\":\n",
    "        current_node = self\n",
    "        while current_node:\n",
    "            yield current_node\n",
    "            current_node = current_node.next"
   ]
  },
  {
   "cell_type": "code",
   "execution_count": 8,
   "id": "cbc0b1bfd9e7fd6f",
   "metadata": {
    "ExecuteTime": {
     "end_time": "2023-10-28T00:16:48.887296Z",
     "start_time": "2023-10-28T00:16:48.844535Z"
    },
    "collapsed": false,
    "editable": true,
    "slideshow": {
     "slide_type": "subslide"
    },
    "tags": []
   },
   "outputs": [],
   "source": [
    "root = Node(\"a\", \n",
    "            next_=Node(\"b\", \n",
    "                       next_=Node(\"c\")))"
   ]
  },
  {
   "cell_type": "code",
   "execution_count": 9,
   "id": "9ef309b59890ecbd",
   "metadata": {
    "ExecuteTime": {
     "end_time": "2023-10-28T00:16:48.887398Z",
     "start_time": "2023-10-28T00:16:48.847447Z"
    },
    "collapsed": false,
    "editable": true,
    "slideshow": {
     "slide_type": ""
    },
    "tags": []
   },
   "outputs": [
    {
     "name": "stdout",
     "output_type": "stream",
     "text": [
      "a\n",
      "b\n",
      "c\n"
     ]
    }
   ],
   "source": [
    "for node in root:\n",
    "    print(node.data)"
   ]
  },
  {
   "cell_type": "code",
   "execution_count": 10,
   "id": "1f4e4087e58d77dd",
   "metadata": {
    "ExecuteTime": {
     "end_time": "2023-10-28T00:16:48.888004Z",
     "start_time": "2023-10-28T00:16:48.850716Z"
    },
    "collapsed": false,
    "editable": true,
    "slideshow": {
     "slide_type": ""
    },
    "tags": []
   },
   "outputs": [
    {
     "data": {
      "text/plain": [
       "generator"
      ]
     },
     "execution_count": 10,
     "metadata": {},
     "output_type": "execute_result"
    }
   ],
   "source": [
    "type(root.__iter__())"
   ]
  },
  {
   "cell_type": "markdown",
   "id": "bd241bb20b4375ae",
   "metadata": {
    "collapsed": false,
    "editable": true,
    "slideshow": {
     "slide_type": "slide"
    },
    "tags": []
   },
   "source": [
    "## `yield`\n",
    "\n",
    "```python\n",
    "def __iter__(self) -> \"Node\":\n",
    "    current_node = self\n",
    "    while current_node:\n",
    "        yield current_node\n",
    "        current_node = current_node.next\n",
    "```\n",
    "\n",
    "Using `yield` turns `__iter__` into a generator function. "
   ]
  },
  {
   "cell_type": "markdown",
   "id": "fd68820ce4a05b5b",
   "metadata": {
    "collapsed": false,
    "editable": true,
    "slideshow": {
     "slide_type": "slide"
    },
    "tags": []
   },
   "source": [
    "## Generators\n",
    "\n",
    "Introduced in [PEP-0255](https://peps.python.org/pep-0255/).\n",
    "\n",
    "Motivating example: `cpython/Lib/tokenize.py` on the [`v2.1` tag](https://github.com/python/cpython/blob/2.1/Lib/tokenize.py#L108-L112):\n",
    "\n",
    "```python\n",
    "def tokenize(readline, tokeneater=printtoken):\n",
    "    try:\n",
    "        tokenize_loop(readline, tokeneater)\n",
    "    except StopTokenizing:\n",
    "        pass\n",
    "```"
   ]
  },
  {
   "cell_type": "markdown",
   "id": "89478e1da80fe4a4",
   "metadata": {
    "collapsed": false,
    "editable": true,
    "slideshow": {
     "slide_type": "subslide"
    },
    "tags": []
   },
   "source": [
    "### Remembering State\n",
    "\n",
    "```python\n",
    "def tokenize(readline, tokeneater=printtoken):\n",
    "    ...\n",
    "```\n",
    "Users often have to remember the state between callbacks.\n",
    "\n",
    "For e.g. [`tabnanny.py`](https://github.com/python/cpython/blob/2.1/Lib/tabnanny.py#L80C5-L82) has a state machine in global variables."
   ]
  },
  {
   "cell_type": "markdown",
   "id": "565e1b9ea75e3730",
   "metadata": {
    "collapsed": false,
    "editable": true,
    "slideshow": {
     "slide_type": "subslide"
    },
    "tags": []
   },
   "source": [
    "### Eager Evaluation\n",
    "\n",
    "In PEP-0255, the authors suggested an alternative to \"produce an entire parse of the Python program at once, in a large list\" <sup>[source](https://peps.python.org/pep-0255/#motivation)</sup>. This solves the state management issue.\n",
    "\n",
    "Can you imagine why this would be problematic?"
   ]
  },
  {
   "cell_type": "markdown",
   "id": "271cd9b5f0cde966",
   "metadata": {
    "collapsed": false,
    "editable": true,
    "slideshow": {
     "slide_type": "subslide"
    },
    "tags": []
   },
   "source": [
    "1. Large inputs may not fit in memory because the memory allocation cannot be precomputed.\n",
    "2. The whole output may not even be necessary."
   ]
  },
  {
   "cell_type": "markdown",
   "id": "acda52b67e86c136",
   "metadata": {
    "collapsed": false,
    "editable": true,
    "slideshow": {
     "slide_type": "subslide"
    },
    "tags": []
   },
   "source": [
    "### A Simple Generator Function"
   ]
  },
  {
   "cell_type": "code",
   "execution_count": 11,
   "id": "be038b168e6de8f4",
   "metadata": {
    "ExecuteTime": {
     "end_time": "2023-10-28T00:16:48.888109Z",
     "start_time": "2023-10-28T00:16:48.853456Z"
    },
    "collapsed": false,
    "editable": true,
    "slideshow": {
     "slide_type": "subslide"
    },
    "tags": []
   },
   "outputs": [],
   "source": [
    "def fruit_box():\n",
    "    yield \"banana\"\n",
    "    yield \"mango\"\n",
    "    yield \"kiwi\""
   ]
  },
  {
   "cell_type": "code",
   "execution_count": 12,
   "id": "4bfc94cd3096b467",
   "metadata": {
    "ExecuteTime": {
     "end_time": "2023-10-28T00:16:48.888534Z",
     "start_time": "2023-10-28T00:16:48.855769Z"
    },
    "collapsed": false,
    "editable": true,
    "slideshow": {
     "slide_type": ""
    },
    "tags": []
   },
   "outputs": [
    {
     "data": {
      "text/plain": [
       "(function, generator)"
      ]
     },
     "execution_count": 12,
     "metadata": {},
     "output_type": "execute_result"
    }
   ],
   "source": [
    "type(fruit_box), type(fruit_box())"
   ]
  },
  {
   "cell_type": "code",
   "execution_count": 13,
   "id": "6490760e8a7dc7ea",
   "metadata": {
    "ExecuteTime": {
     "end_time": "2023-10-28T00:16:48.888682Z",
     "start_time": "2023-10-28T00:16:48.858098Z"
    },
    "collapsed": false,
    "editable": true,
    "slideshow": {
     "slide_type": ""
    },
    "tags": []
   },
   "outputs": [
    {
     "name": "stdout",
     "output_type": "stream",
     "text": [
      "banana\n",
      "mango\n",
      "kiwi\n"
     ]
    }
   ],
   "source": [
    "for fruit in fruit_box():\n",
    "    print(fruit)"
   ]
  },
  {
   "cell_type": "code",
   "execution_count": 14,
   "id": "8e3e88ec8778cf90",
   "metadata": {
    "ExecuteTime": {
     "end_time": "2023-10-28T00:16:48.888742Z",
     "start_time": "2023-10-28T00:16:48.862962Z"
    },
    "collapsed": false,
    "editable": true,
    "slideshow": {
     "slide_type": "subslide"
    },
    "tags": []
   },
   "outputs": [],
   "source": [
    "def veggie_box():\n",
    "    yield \"onion\"\n",
    "    yield \"spinach\"\n",
    "    \n",
    "\n",
    "def grocery_list():\n",
    "    yield from fruit_box()\n",
    "    yield from veggie_box()\n",
    "    \n",
    "    \n",
    "def grocery_list2():\n",
    "    for fruit in fruit_box():\n",
    "        yield fruit\n",
    "    for veggie in veggie_box():\n",
    "        yield veggie"
   ]
  },
  {
   "cell_type": "code",
   "execution_count": 15,
   "id": "46cf5a65600c2037",
   "metadata": {
    "ExecuteTime": {
     "end_time": "2023-10-28T00:16:48.888875Z",
     "start_time": "2023-10-28T00:16:48.865690Z"
    },
    "collapsed": false,
    "editable": true,
    "slideshow": {
     "slide_type": ""
    },
    "tags": []
   },
   "outputs": [
    {
     "data": {
      "text/plain": [
       "(['banana', 'mango', 'kiwi', 'onion', 'spinach'],\n",
       " ['banana', 'mango', 'kiwi', 'onion', 'spinach'])"
      ]
     },
     "execution_count": 15,
     "metadata": {},
     "output_type": "execute_result"
    }
   ],
   "source": [
    "list(grocery_list()), list(grocery_list2())"
   ]
  },
  {
   "cell_type": "markdown",
   "id": "ec4ae2c6c017513",
   "metadata": {
    "collapsed": false,
    "editable": true,
    "slideshow": {
     "slide_type": "slide"
    },
    "tags": []
   },
   "source": [
    "## Implementation of Generators in CPython\n",
    "\n",
    "The simplest recipe for generators 🥘:\n",
    "\n",
    "1. Some kind of structure.\n",
    "2. Something that creates that structure.\n",
    "3. Something that executes the generator."
   ]
  },
  {
   "cell_type": "markdown",
   "id": "fa832a1032194d7e",
   "metadata": {
    "collapsed": false,
    "editable": true,
    "slideshow": {
     "slide_type": "slide"
    },
    "tags": []
   },
   "source": [
    "### Structure\n",
    "\n",
    "```C\n",
    "typedef struct {\n",
    "    /* The gi_ prefix is intended to remind of generator-iterator. */\n",
    "    _PyGenObject_HEAD(gi)\n",
    "} PyGenObject;\n",
    "```\n",
    "[`genobject.h`](https://github.com/python/cpython/blob/main/Include/cpython/genobject.h#L34)\n"
   ]
  },
  {
   "cell_type": "markdown",
   "id": "9a5eae3c65c1ba58",
   "metadata": {
    "collapsed": false,
    "editable": true,
    "slideshow": {
     "slide_type": "subslide"
    },
    "tags": []
   },
   "source": [
    "```C\n",
    "#define _PyGenObject_HEAD(prefix)\n",
    "    PyObject_HEAD\n",
    "    PyObject *prefix##_weakreflist;\n",
    "    PyObject *prefix##_name;\n",
    "    PyObject *prefix##_qualname;\n",
    "    _PyErr_StackItem prefix##_exc_state;\n",
    "    PyObject *prefix##_origin_or_finalizer;\n",
    "    char prefix##_hooks_inited;\n",
    "    char prefix##_closed;\n",
    "    char prefix##_running_async;\n",
    "    int8_t prefix##_frame_state;\n",
    "    PyObject *prefix##_iframe[1];\n",
    "```\n",
    "[genobject.h](https://github.com/python/cpython/blob/main/Include/cpython/genobject.h#L14-L29)"
   ]
  },
  {
   "cell_type": "markdown",
   "id": "e86873492a54aded",
   "metadata": {
    "collapsed": false,
    "editable": true,
    "slideshow": {
     "slide_type": "subslide"
    },
    "tags": []
   },
   "source": [
    "Given the struct `PyGenObject` and macro `_PyGenObject_HEAD`, we can expand it to:\n",
    "\n",
    "```C\n",
    "typedef struct {\n",
    "    PyObject *gi_weakreflist;    \n",
    "    PyObject *gi_name;    \n",
    "    PyObject *gi_qualname;\n",
    "\n",
    "    _PyErr_StackItem gi_exc_state;\n",
    "    PyObject *gi_origin_or_finalizer;\n",
    "    char gi_hooks_inited;  \n",
    "\n",
    "    char gi_closed;\n",
    "    char gi_running_async;\n",
    "\n",
    "    int8_t gi_frame_state;\n",
    "    PyObject *gi_iframe[1];\n",
    "\n",
    "} PyGenObject;\n",
    "```"
   ]
  },
  {
   "cell_type": "markdown",
   "id": "1a627fe187fc30b9",
   "metadata": {
    "collapsed": false,
    "editable": true,
    "slideshow": {
     "slide_type": "subslide"
    },
    "tags": []
   },
   "source": [
    "A structure that holds the generator's code object, its current state, and the frame it is executing in."
   ]
  },
  {
   "cell_type": "markdown",
   "id": "1291966b7c97edd6",
   "metadata": {
    "collapsed": false,
    "editable": true,
    "slideshow": {
     "slide_type": "slide"
    },
    "tags": []
   },
   "source": [
    "### Initalizer\n",
    "\n",
    "```C\n",
    "PyObject *\n",
    "PyGen_New(PyFrameObject *f)\n",
    "{\n",
    "    return gen_new_with_qualname(&PyGen_Type, f, NULL, NULL);\n",
    "}\n",
    "```\n",
    "[genobject.c](https://github.com/python/cpython/blob/main/Objects/genobject.c#L1007-L1011)"
   ]
  },
  {
   "cell_type": "markdown",
   "id": "d29b0c922a46729c",
   "metadata": {
    "collapsed": false,
    "editable": true,
    "slideshow": {
     "slide_type": "subslide"
    },
    "tags": []
   },
   "source": [
    "```C\n",
    "PyGen_New(PyFrameObject *f)\n",
    "```\n",
    "\n",
    "🤔 `PyFrameObject` ???"
   ]
  },
  {
   "cell_type": "markdown",
   "id": "b19ce2e323fa074d",
   "metadata": {
    "collapsed": false,
    "editable": true,
    "slideshow": {
     "slide_type": "subslide"
    },
    "tags": []
   },
   "source": [
    "### `PyFrameObject`\n",
    "\n",
    "Used by the Python interpreter to execute a function.\n",
    "\n",
    "- Local and global variables\n",
    "- Bytecode\n",
    "- Execution stack\n",
    "\n",
    "[docs](https://docs.python.org/3/c-api/frame.html)\n",
    "\n",
    "![](./generator_frame.png)\n",
    "[pythontutor.org permalink](https://pythontutor.com/render.html#code=def%20fruit_box%28%29%3A%0A%20%20%20%20yield%20%22banana%22%0A%20%20%20%20yield%20%22mango%22%0A%20%20%20%20yield%20%22strawberry%22%0A%0Afor%20fruit%20in%20fruit_box%28%29%3A%0A%20%20%20%20print%28fruit%29&cumulative=false&curInstr=9&heapPrimitives=nevernest&mode=display&origin=opt-frontend.js&py=311&rawInputLstJSON=%5B%5D&textReferences=false)"
   ]
  },
  {
   "cell_type": "markdown",
   "id": "c948a7132268074c",
   "metadata": {
    "collapsed": false,
    "editable": true,
    "slideshow": {
     "slide_type": "subslide"
    },
    "tags": []
   },
   "source": [
    "```C\n",
    "static PyObject *\n",
    "gen_new_with_qualname(PyTypeObject *type, PyFrameObject *f,\n",
    "                      PyObject *name, PyObject *qualname)\n",
    "{\n",
    "    PyCodeObject *code = _PyFrame_GetCode(f->f_frame);\n",
    "    int size = code->co_nlocalsplus + code->co_stacksize; 👈 1\n",
    "    PyGenObject *gen = PyObject_GC_NewVar(PyGenObject, type, size); \n",
    "    👆2\n",
    "    ...\n",
    "    /* Copy the frame */ \n",
    "    ... 👇 3\n",
    "    _PyInterpreterFrame *frame = (_PyInterpreterFrame *)gen->gi_iframe;\n",
    "    _PyFrame_Copy((_PyInterpreterFrame *)f->_f_frame_data, frame);\n",
    "    ...\n",
    "    _PyObject_GC_TRACK(gen); 👈 4\n",
    "    return (PyObject *)gen;\n",
    "}\n",
    "```\n",
    "1. Calculate the size needed.\n",
    "2. Allocate the memory.\n",
    "3. Copy the frame to preserve state and have an independent execution context from the caller.\n",
    "4. Track the object for the GC."
   ]
  },
  {
   "cell_type": "markdown",
   "id": "809ec9307a3ed82a",
   "metadata": {
    "collapsed": false,
    "editable": true,
    "slideshow": {
     "slide_type": "subslide"
    },
    "tags": []
   },
   "source": [
    "`gen_new_with_qualname` calculates the size of the generator and allocates the memory for the generator to be created."
   ]
  },
  {
   "cell_type": "markdown",
   "id": "7d998bf5d750100c",
   "metadata": {
    "collapsed": false,
    "editable": true,
    "slideshow": {
     "slide_type": "slide"
    },
    "tags": []
   },
   "source": [
    "### Execution\n",
    "\n",
    "py: `__next__()` → C: `gen_iternext()` → C: `gen_send_ex2()`\n",
    "\n",
    "`gen_send_ex2` [source code](https://github.com/python/cpython/blob/main/Objects/genobject.c#L169-L264).\n",
    "\n",
    "> 💡`gen_send_ex` is an abstraction over `gen_send_ex2` and is used for implementing the `send()`, `close()`, `throw()` methods of generators."
   ]
  },
  {
   "cell_type": "markdown",
   "id": "16a264b80999ebc5",
   "metadata": {
    "collapsed": false,
    "editable": true,
    "slideshow": {
     "slide_type": "subslide"
    },
    "tags": []
   },
   "source": [
    "```C\n",
    "...\n",
    "gen->gi_frame_state = FRAME_EXECUTING; 👈 1\n",
    "EVAL_CALL_STAT_INC(EVAL_CALL_GENERATOR);\n",
    "result = _PyEval_EvalFrame(tstate, frame, exc); 👈✨ 2\n",
    "assert(tstate->exc_info == prev_exc_info); 👈 3\n",
    "assert(gen->gi_exc_state.previous_item == NULL);\n",
    "assert(gen->gi_frame_state != FRAME_EXECUTING);\n",
    "assert(frame->previous == NULL);\n",
    "...\n",
    "```\n",
    "1. Set the state to executing.\n",
    "2. Run the generator code until `yield`, `return`, `Exception`.\n",
    "3. All following assertions: `assert(python.thread_state == generator.state)`"
   ]
  },
  {
   "cell_type": "markdown",
   "id": "803cf4864594b3b0",
   "metadata": {
    "collapsed": false,
    "editable": true,
    "slideshow": {
     "slide_type": "subslide"
    },
    "tags": []
   },
   "source": [
    "```C\n",
    "if (result) {\n",
    "    if (gen->gi_frame_state == FRAME_SUSPENDED) {\n",
    "        *presult = result; 👈 1\n",
    "        return PYGEN_NEXT; 👈 2\n",
    "    }\n",
    "    assert(result == Py_None || !PyAsyncGen_CheckExact(gen));\n",
    "    if (result == Py_None && !PyAsyncGen_CheckExact(gen) && !arg) {\n",
    "        Py_CLEAR(result); 👈 3\n",
    "    }\n",
    "}\n",
    "else {  \n",
    "    // make sure it's not a StopIteration\n",
    "}\n",
    "\n",
    "assert(gen->gi_exc_state.exc_value == NULL);\n",
    "assert(gen->gi_frame_state == FRAME_CLEARED);\n",
    "*presult = result;\n",
    "return result ? PYGEN_RETURN : PYGEN_ERROR;  👈 4\n",
    "```\n",
    "1. Store the result if it's yielded (ie, generator paused and to be resumed later).\n",
    "2. Notify caller that there's a next value.\n",
    "3. Clear the result because generator is done.\n",
    "4. Let the caller know if we return a value, `PYGEN_RETURN`, or raise an exception, `PYGEN_ERROR`."
   ]
  },
  {
   "cell_type": "markdown",
   "id": "ab5fe38a0e22410c",
   "metadata": {
    "collapsed": false,
    "editable": true,
    "slideshow": {
     "slide_type": "subslide"
    },
    "tags": []
   },
   "source": [
    "😵‍💫 What just happened?"
   ]
  },
  {
   "cell_type": "markdown",
   "id": "96b2efc89c37fae6",
   "metadata": {
    "collapsed": false,
    "editable": true,
    "slideshow": {
     "slide_type": "slide"
    },
    "tags": []
   },
   "source": [
    "We just took a look at how generators are implemented under the hood.\n",
    "\n",
    "But how does all of this C code back up the claim that \"generators use memory\n",
    "efficiently?\""
   ]
  },
  {
   "cell_type": "markdown",
   "id": "38ba359b3ace289b",
   "metadata": {
    "collapsed": false,
    "editable": true,
    "slideshow": {
     "slide_type": "slide"
    },
    "tags": []
   },
   "source": [
    "1. The frame object in `PyGenObject` maintains the state of the generator. Only the current value and state is saved in memory instead of all intermediate results.\n",
    "2. `PyObject_GC_NewVar` which was used in `gen_new_with_qualname` to allocate memory.\n",
    "3. Because generators participate in garbage collection, that memory is reclaimed as soon as it's no longer needed."
   ]
  },
  {
   "cell_type": "markdown",
   "id": "63c82268e2783258",
   "metadata": {
    "collapsed": false,
    "editable": true,
    "slideshow": {
     "slide_type": "slide"
    },
    "tags": []
   },
   "source": [
    "## Thanks! 🙏\n",
    "\n",
    "And here's some resources:\n",
    "\n",
    "- [PEP-0234](https://peps.python.org/pep-0234/)\n",
    "- [PEP-0255](https://peps.python.org/pep-0255/)\n",
    "- [The Python Wiki: Iterator](https://wiki.python.org/moin/Iterator)\n",
    "- [Standard Types: Iterator Types](https://docs.python.org/3/library/stdtypes.html#iterator-types)\n",
    "- [Expressions: `yield`](https://docs.python.org/3/reference/expressions.html#yieldexpr)\n",
    "- [Expressions: Generator-iterator methods](https://docs.python.org/3/reference/expressions.html#generator-iterator-methods)\n",
    "- [GitHub: python/cpython](https://github.com/python/cpython)"
   ]
  }
 ],
 "metadata": {
  "kernelspec": {
   "display_name": "Python 3 (ipykernel)",
   "language": "python",
   "name": "python3"
  },
  "language_info": {
   "codemirror_mode": {
    "name": "ipython",
    "version": 3
   },
   "file_extension": ".py",
   "mimetype": "text/x-python",
   "name": "python",
   "nbconvert_exporter": "python",
   "pygments_lexer": "ipython3",
   "version": "3.11.5"
  }
 },
 "nbformat": 4,
 "nbformat_minor": 5
}
